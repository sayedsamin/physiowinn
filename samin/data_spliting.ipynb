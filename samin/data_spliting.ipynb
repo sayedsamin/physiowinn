{
 "cells": [
  {
   "cell_type": "code",
   "execution_count": 1,
   "id": "3c02158f",
   "metadata": {},
   "outputs": [],
   "source": [
    "import os\n"
   ]
  },
  {
   "cell_type": "code",
   "execution_count": 4,
   "id": "9547e843",
   "metadata": {},
   "outputs": [
    {
     "name": "stdout",
     "output_type": "stream",
     "text": [
      "Done: 774 pos-train / 41 pos-test | 15259 neg-train / 6540 neg-test\n"
     ]
    }
   ],
   "source": [
    "#!/usr/bin/env python3\n",
    "import random, shutil\n",
    "from math import ceil\n",
    "from pathlib import Path\n",
    "\n",
    "ROOT = Path(\"/home/physionet/project/data\")\n",
    "NEG  = ROOT / \"ptbxlFalse\"      # negatives\n",
    "POS  = ROOT / \"samitropTrue\"    # positives\n",
    "TRAIN = ROOT / \"train\"\n",
    "TEST  = ROOT / \"test\"\n",
    "random.seed(42)\n",
    "\n",
    "def pairs(folder: Path):\n",
    "    return [(d, d.with_suffix(\".hea\"))\n",
    "            for d in folder.glob(\"*.dat\") if d.with_suffix(\".hea\").exists()]\n",
    "\n",
    "def copy(pair, dst: Path):\n",
    "    dst.mkdir(exist_ok=True)\n",
    "    for f in pair: shutil.copy2(f, dst / f.name)\n",
    "\n",
    "# positive: 5 % test\n",
    "pos = pairs(POS)\n",
    "k   = max(1, ceil(len(pos) * 0.05))\n",
    "for p in pos:\n",
    "    copy(p, TEST if p in set(random.sample(pos, k)) else TRAIN)\n",
    "\n",
    "# negative: 70 % train / 30 % test\n",
    "neg = pairs(NEG); random.shuffle(neg)\n",
    "split = int(len(neg) * 0.7)\n",
    "for p in neg[:split]:  copy(p, TRAIN)\n",
    "for p in neg[split:]: copy(p, TEST)\n",
    "\n",
    "print(\"Done:\",\n",
    "      f\"{len(pos)-k} pos-train / {k} pos-test | \"\n",
    "      f\"{split} neg-train / {len(neg)-split} neg-test\")\n"
   ]
  },
  {
   "cell_type": "code",
   "execution_count": 3,
   "id": "864ef53d",
   "metadata": {},
   "outputs": [
    {
     "data": {
      "text/plain": [
       "PosixPath('/home/physionet/project/data/train')"
      ]
     },
     "execution_count": 3,
     "metadata": {},
     "output_type": "execute_result"
    }
   ],
   "source": [
    "TRAIN_DST"
   ]
  },
  {
   "cell_type": "code",
   "execution_count": null,
   "id": "957ef61a",
   "metadata": {},
   "outputs": [],
   "source": []
  }
 ],
 "metadata": {
  "kernelspec": {
   "display_name": "Python 3",
   "language": "python",
   "name": "python3"
  },
  "language_info": {
   "codemirror_mode": {
    "name": "ipython",
    "version": 3
   },
   "file_extension": ".py",
   "mimetype": "text/x-python",
   "name": "python",
   "nbconvert_exporter": "python",
   "pygments_lexer": "ipython3",
   "version": "3.8.10"
  }
 },
 "nbformat": 4,
 "nbformat_minor": 5
}

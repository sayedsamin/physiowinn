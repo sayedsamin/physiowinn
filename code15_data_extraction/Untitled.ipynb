{
 "cells": [
  {
   "cell_type": "code",
   "execution_count": 1,
   "id": "30004996-3e11-4aba-a28d-efd9f0f2fbec",
   "metadata": {},
   "outputs": [
    {
     "data": {
      "text/plain": [
       "'/home/physionet/project/code15_data_extraction'"
      ]
     },
     "execution_count": 1,
     "metadata": {},
     "output_type": "execute_result"
    }
   ],
   "source": [
    "pwd"
   ]
  },
  {
   "cell_type": "markdown",
   "id": "820086aa-faee-4a24-bf61-6a6f92340863",
   "metadata": {},
   "source": [
    "**checking hea files**"
   ]
  },
  {
   "cell_type": "code",
   "execution_count": null,
   "id": "c99df8fe-c288-4689-acf0-12be07a4b523",
   "metadata": {},
   "outputs": [],
   "source": [
    "import os\n",
    "\n",
    "# point this at the folder that contains your .hea files\n",
    "FOLDER = '../data/code15False'\n",
    "\n",
    "# find the first .hea\n",
    "hea_file = None\n",
    "for fn in os.listdir(FOLDER):\n",
    "    if fn.endswith('.hea'):\n",
    "        hea_file = os.path.join(FOLDER, fn)\n",
    "        break\n",
    "\n",
    "if not hea_file:\n",
    "    print(\"No .hea files found in\", FOLDER)\n",
    "else:\n",
    "    print(\"Inspecting:\", hea_file)\n",
    "    with open(hea_file, 'r') as f:\n",
    "        for line in f:\n",
    "            print(line.rstrip())"
   ]
  },
  {
   "cell_type": "markdown",
   "id": "0a5eea74-008f-45e0-a6da-c1645bcefa0b",
   "metadata": {},
   "source": [
    "**copying ratiod samples to new folder**"
   ]
  },
  {
   "cell_type": "code",
   "execution_count": 4,
   "id": "1bd799a2-77b9-437a-ae43-85a356e09a98",
   "metadata": {},
   "outputs": [
    {
     "name": "stdout",
     "output_type": "stream",
     "text": [
      "Done: 17163 negatives + 571 positives copied into ../data/code15_unbalanced\n"
     ]
    }
   ],
   "source": [
    "import os\n",
    "import shutil\n",
    "\n",
    "INPUT_ROOT = '../data/code15False' \n",
    "OUTPUT_DIR = '../data/code15_unbalanced'   \n",
    "os.makedirs(OUTPUT_DIR, exist_ok=True)\n",
    "\n",
    "N_NEG = 17163\n",
    "N_POS = 571\n",
    "\n",
    "neg_count = 0\n",
    "pos_count = 0\n",
    "\n",
    "def read_chagas_label(hea_path):\n",
    "    \"\"\"\n",
    "    Returns 1 for positive, 0 for negative, or None if no label found / unrecognized.\n",
    "    \"\"\"\n",
    "    with open(hea_path, 'r') as f:\n",
    "        for line in f:\n",
    "            line = line.strip()\n",
    "            if line.startswith('# Chagas label:'):\n",
    "                val = line.split(':',1)[1].strip().lower()\n",
    "                if val in ('true', '1', 'yes'):   # positive\n",
    "                    return 1\n",
    "                if val in ('false', '0', 'no'):   # negative\n",
    "                    return 0\n",
    "                return None\n",
    "    return None\n",
    "\n",
    "for root, dirs, files in os.walk(INPUT_ROOT):\n",
    "    for fn in files:\n",
    "        if not fn.endswith('.hea'):\n",
    "            continue\n",
    "        record = fn[:-4]\n",
    "        hea = os.path.join(root, record + '.hea')\n",
    "        dat = os.path.join(root, record + '.dat')\n",
    "        if not os.path.exists(dat):\n",
    "            continue\n",
    "\n",
    "        label = read_chagas_label(hea)\n",
    "        if label is None:\n",
    "            continue\n",
    "\n",
    "        if label == 0 and neg_count < N_NEG:\n",
    "            neg_count += 1\n",
    "        elif label == 1 and pos_count < N_POS:\n",
    "            pos_count += 1\n",
    "        else:\n",
    "            continue\n",
    "\n",
    "        # copy both into the same folder\n",
    "        shutil.copy2(hea,  OUTPUT_DIR)\n",
    "        shutil.copy2(dat,  OUTPUT_DIR)\n",
    "\n",
    "        if neg_count >= N_NEG and pos_count >= N_POS:\n",
    "            break\n",
    "    else:\n",
    "        continue\n",
    "    break\n",
    "\n",
    "print(f\"Done: {neg_count} negatives + {pos_count} positives copied into {OUTPUT_DIR}\")"
   ]
  },
  {
   "cell_type": "markdown",
   "id": "02187a96-d9c8-4e4e-9691-69ebaacab51e",
   "metadata": {},
   "source": [
    "**checking if prev code worked**"
   ]
  },
  {
   "cell_type": "code",
   "execution_count": 5,
   "id": "c579efed-f727-41f6-9e1d-2ee7640b790a",
   "metadata": {},
   "outputs": [
    {
     "name": "stdout",
     "output_type": "stream",
     "text": [
      "Negatives (0): 17163\n",
      "Positives (1): 571\n",
      "Unrecognized: 0\n"
     ]
    }
   ],
   "source": [
    "import os\n",
    "from collections import Counter\n",
    "\n",
    "OUTPUT_DIR = '../data/code15_unbalanced'  # ← your folder\n",
    "\n",
    "def read_chagas_label(hea_path):\n",
    "    with open(hea_path, 'r') as f:\n",
    "        for line in f:\n",
    "            if line.startswith('# Chagas label:'):\n",
    "                val = line.split(':',1)[1].strip().lower()\n",
    "                if val in ('true','1','yes'): return 1\n",
    "                if val in ('false','0','no'): return 0\n",
    "    return None\n",
    "\n",
    "counts = Counter()\n",
    "for fn in os.listdir(OUTPUT_DIR):\n",
    "    if fn.endswith('.hea'):\n",
    "        label = read_chagas_label(os.path.join(OUTPUT_DIR, fn))\n",
    "        counts[label] += 1\n",
    "\n",
    "print(f\"Negatives (0): {counts[0]}\")\n",
    "print(f\"Positives (1): {counts[1]}\")\n",
    "print(f\"Unrecognized: {counts[None]}\")"
   ]
  },
  {
   "cell_type": "code",
   "execution_count": null,
   "id": "89edaf3c-b436-46fc-8913-ca0b8257e927",
   "metadata": {},
   "outputs": [],
   "source": []
  }
 ],
 "metadata": {
  "kernelspec": {
   "display_name": "Python 3 (ipykernel)",
   "language": "python",
   "name": "python3"
  },
  "language_info": {
   "codemirror_mode": {
    "name": "ipython",
    "version": 3
   },
   "file_extension": ".py",
   "mimetype": "text/x-python",
   "name": "python",
   "nbconvert_exporter": "python",
   "pygments_lexer": "ipython3",
   "version": "3.8.10"
  }
 },
 "nbformat": 4,
 "nbformat_minor": 5
}
